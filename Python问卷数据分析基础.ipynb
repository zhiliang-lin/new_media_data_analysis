{
 "cells": [
  {
   "cell_type": "code",
   "execution_count": 21,
   "metadata": {},
   "outputs": [],
   "source": [
    "# 整理数据的库\n",
    "import numpy as np\n",
    "import pandas as pd\n",
    "# 数据可视化的库\n",
    "import matplotlib.pyplot as plt\n",
    "import seaborn as sns\n",
    "\n",
    "plt.rcParams['font.sans-serif'] = ['SimHei']  # 中文字体设置-黑体\n",
    "plt.rcParams['axes.unicode_minus'] = False  # 解决保存图像是负号'-'显示为方块的问题\n",
    "\n",
    "# 其它\n",
    "import warnings\n",
    "warnings.filterwarnings('ignore') #忽视警告"
   ]
  },
  {
   "cell_type": "markdown",
   "metadata": {},
   "source": [
    "# 数据准备\n"
   ]
  },
  {
   "cell_type": "code",
   "execution_count": 6,
   "metadata": {},
   "outputs": [],
   "source": [
    "df = pd.read_excel(\"./data/网新学子专业态度调查数据集/【单变量可视化及数据描述】网新学子专业态度调查.xlsx\")"
   ]
  },
  {
   "cell_type": "markdown",
   "metadata": {},
   "source": [
    "# 数据清洗与处理\n"
   ]
  },
  {
   "cell_type": "code",
   "execution_count": 7,
   "metadata": {},
   "outputs": [],
   "source": [
    "# 定义函数方法:将数字和数字和代表含义一一映射\n",
    "\n",
    "# high_school_major变量：1为文科，2为理科\n",
    "def high_school_major(series):\n",
    "    if series == 1:\n",
    "        return '文科'\n",
    "    else:\n",
    "        return '理科'\n",
    "\n",
    "# gender变量：1为男性，2为女性\n",
    "def gender(series):\n",
    "    if series == 1:\n",
    "        return '男性'\n",
    "    else:\n",
    "        return '女性'\n",
    "# hukou变量：1为城镇，2为非城镇\n",
    "def hukou(series):\n",
    "    if series == 1:\n",
    "        return '城镇'\n",
    "    else:\n",
    "        return '非城镇'\n",
    "# location变量：1为广东地区，2为珠三角地区，3为粤东，4为粤西，5为粤北\n",
    "def location (series):\n",
    "    if series == 1:\n",
    "        return \"非广东地区\"\n",
    "    elif series == 2:\n",
    "        return \"珠三角地区\"\n",
    "    elif series == 3:\n",
    "        return \"粤东\"\n",
    "    elif series == 4:\n",
    "        return \"粤西\"\n",
    "    else:\n",
    "        return \"粤北\"\n",
    "# like变量：1为喜欢，0为不喜欢\n",
    "def like(series):\n",
    "    if series == 1:\n",
    "        return '喜欢'\n",
    "    else:\n",
    "        return '不喜欢'\n",
    "# impr变量：1为有提升空间，0为挺好的\n",
    "def impr(series):\n",
    "    if series == 1:\n",
    "        return '有提升空间'\n",
    "    else:\n",
    "        return '挺好的'\n"
   ]
  },
  {
   "cell_type": "code",
   "execution_count": 8,
   "metadata": {},
   "outputs": [],
   "source": [
    "# 将high_school_major，gender,hukou,location变量转为“类别型变量”\n",
    "df.high_school_major = df.high_school_major.apply(high_school_major).astype('category')\n",
    "df.gender = df.gender.apply(gender).astype('category')\n",
    "df.hukou = df.hukou.apply(hukou).astype('category')\n",
    "df.location = df.location.apply(location).astype('category')"
   ]
  },
  {
   "cell_type": "code",
   "execution_count": null,
   "metadata": {},
   "outputs": [
    {
     "name": "stdout",
     "output_type": "stream",
     "text": [
      "0 method\n",
      "1 l_code\n",
      "2 l_design\n",
      "3 l_operation\n",
      "4 l_production\n",
      "5 l_copywriter\n",
      "6 l_market\n",
      "7 l_other\n",
      "8 l_non\n",
      "9 maj_work\n",
      "10 maj_dir\n",
      "11 cap_code\n",
      "12 cap_design\n",
      "13 cap_operation\n",
      "14 cap_production\n",
      "15 cap_copywriter\n",
      "16 cap_market\n",
      "17 ranking\n",
      "18 effort_read\n",
      "19 effort_info\n",
      "20 effort_res\n",
      "21 effort_project\n",
      "22 effort_overall\n",
      "23 sati_code\n",
      "24 sati_design\n",
      "25 sati_operation\n",
      "26 sati_production\n",
      "27 sati_copywriter\n",
      "28 sati_market\n",
      "29 sati_other\n",
      "30 impr_code\n",
      "31 impr_design\n",
      "32 impr_operation\n",
      "33 impr_production\n",
      "34 impr_copywriter\n",
      "35 impr_market\n",
      "36 impr_other\n",
      "37 sati_overall\n",
      "38 grade\n",
      "39 gender\n",
      "40 spending\n",
      "41 high_school_major\n",
      "42 location\n",
      "43 hukou\n"
     ]
    }
   ],
   "source": [
    "# 看一下每一个变量对应的是第几个变量（变量名前的数字为其顺序）\n",
    "for i in range(len(df.columns)):\n",
    "    print(i,df.columns[i])"
   ]
  },
  {
   "cell_type": "code",
   "execution_count": 10,
   "metadata": {},
   "outputs": [],
   "source": [
    "# 将以“l_”开头的变量（第1~9列的变量）转为“类别型变量”\n",
    "for i in range(1,9):\n",
    "    df.iloc[:,i] = df.iloc[:,i].apply(like).astype('category')"
   ]
  },
  {
   "cell_type": "code",
   "execution_count": 11,
   "metadata": {},
   "outputs": [
    {
     "data": {
      "application/vnd.microsoft.datawrangler.viewer.v0+json": {
       "columns": [
        {
         "name": "index",
         "rawType": "int64",
         "type": "integer"
        },
        {
         "name": "l_code",
         "rawType": "category",
         "type": "unknown"
        },
        {
         "name": "l_design",
         "rawType": "category",
         "type": "unknown"
        },
        {
         "name": "l_operation",
         "rawType": "category",
         "type": "unknown"
        },
        {
         "name": "l_production",
         "rawType": "category",
         "type": "unknown"
        },
        {
         "name": "l_copywriter",
         "rawType": "category",
         "type": "unknown"
        },
        {
         "name": "l_market",
         "rawType": "category",
         "type": "unknown"
        },
        {
         "name": "l_other",
         "rawType": "category",
         "type": "unknown"
        },
        {
         "name": "l_non",
         "rawType": "category",
         "type": "unknown"
        }
       ],
       "conversionMethod": "pd.DataFrame",
       "ref": "181301e0-4996-4725-8bfb-3d5674c1651e",
       "rows": [
        [
         "0",
         "不喜欢",
         "喜欢",
         "喜欢",
         "喜欢",
         "喜欢",
         "不喜欢",
         "不喜欢",
         "不喜欢"
        ],
        [
         "1",
         "喜欢",
         "不喜欢",
         "喜欢",
         "喜欢",
         "不喜欢",
         "不喜欢",
         "不喜欢",
         "不喜欢"
        ],
        [
         "2",
         "不喜欢",
         "喜欢",
         "喜欢",
         "喜欢",
         "喜欢",
         "不喜欢",
         "不喜欢",
         "不喜欢"
        ],
        [
         "3",
         "不喜欢",
         "不喜欢",
         "喜欢",
         "喜欢",
         "喜欢",
         "不喜欢",
         "不喜欢",
         "不喜欢"
        ],
        [
         "4",
         "不喜欢",
         "喜欢",
         "不喜欢",
         "不喜欢",
         "不喜欢",
         "不喜欢",
         "不喜欢",
         "不喜欢"
        ],
        [
         "5",
         "不喜欢",
         "不喜欢",
         "不喜欢",
         "喜欢",
         "喜欢",
         "喜欢",
         "不喜欢",
         "不喜欢"
        ],
        [
         "6",
         "不喜欢",
         "喜欢",
         "不喜欢",
         "喜欢",
         "喜欢",
         "不喜欢",
         "不喜欢",
         "不喜欢"
        ],
        [
         "7",
         "不喜欢",
         "喜欢",
         "不喜欢",
         "不喜欢",
         "喜欢",
         "不喜欢",
         "不喜欢",
         "不喜欢"
        ],
        [
         "8",
         "不喜欢",
         "喜欢",
         "喜欢",
         "喜欢",
         "喜欢",
         "不喜欢",
         "喜欢",
         "不喜欢"
        ],
        [
         "9",
         "喜欢",
         "喜欢",
         "不喜欢",
         "喜欢",
         "不喜欢",
         "喜欢",
         "不喜欢",
         "不喜欢"
        ],
        [
         "10",
         "不喜欢",
         "不喜欢",
         "不喜欢",
         "不喜欢",
         "不喜欢",
         "不喜欢",
         "不喜欢",
         "喜欢"
        ],
        [
         "11",
         "不喜欢",
         "喜欢",
         "喜欢",
         "喜欢",
         "喜欢",
         "喜欢",
         "不喜欢",
         "不喜欢"
        ],
        [
         "12",
         "不喜欢",
         "喜欢",
         "喜欢",
         "喜欢",
         "不喜欢",
         "不喜欢",
         "不喜欢",
         "不喜欢"
        ],
        [
         "13",
         "不喜欢",
         "喜欢",
         "喜欢",
         "喜欢",
         "喜欢",
         "不喜欢",
         "不喜欢",
         "不喜欢"
        ],
        [
         "14",
         "不喜欢",
         "喜欢",
         "喜欢",
         "喜欢",
         "喜欢",
         "喜欢",
         "不喜欢",
         "不喜欢"
        ],
        [
         "15",
         "不喜欢",
         "喜欢",
         "喜欢",
         "喜欢",
         "不喜欢",
         "喜欢",
         "不喜欢",
         "不喜欢"
        ],
        [
         "16",
         "不喜欢",
         "喜欢",
         "不喜欢",
         "不喜欢",
         "不喜欢",
         "喜欢",
         "不喜欢",
         "不喜欢"
        ],
        [
         "17",
         "不喜欢",
         "喜欢",
         "不喜欢",
         "不喜欢",
         "喜欢",
         "不喜欢",
         "不喜欢",
         "不喜欢"
        ],
        [
         "18",
         "不喜欢",
         "不喜欢",
         "喜欢",
         "喜欢",
         "喜欢",
         "不喜欢",
         "不喜欢",
         "不喜欢"
        ],
        [
         "19",
         "喜欢",
         "喜欢",
         "不喜欢",
         "喜欢",
         "不喜欢",
         "不喜欢",
         "不喜欢",
         "不喜欢"
        ],
        [
         "20",
         "不喜欢",
         "喜欢",
         "喜欢",
         "喜欢",
         "喜欢",
         "喜欢",
         "不喜欢",
         "不喜欢"
        ],
        [
         "21",
         "不喜欢",
         "喜欢",
         "喜欢",
         "喜欢",
         "不喜欢",
         "不喜欢",
         "不喜欢",
         "不喜欢"
        ],
        [
         "22",
         "喜欢",
         "喜欢",
         "不喜欢",
         "不喜欢",
         "不喜欢",
         "不喜欢",
         "不喜欢",
         "不喜欢"
        ],
        [
         "23",
         "不喜欢",
         "喜欢",
         "不喜欢",
         "喜欢",
         "不喜欢",
         "不喜欢",
         "不喜欢",
         "不喜欢"
        ],
        [
         "24",
         "不喜欢",
         "喜欢",
         "喜欢",
         "喜欢",
         "喜欢",
         "喜欢",
         "不喜欢",
         "不喜欢"
        ],
        [
         "25",
         "不喜欢",
         "喜欢",
         "喜欢",
         "喜欢",
         "喜欢",
         "喜欢",
         "不喜欢",
         "不喜欢"
        ],
        [
         "26",
         "不喜欢",
         "喜欢",
         "喜欢",
         "喜欢",
         "喜欢",
         "不喜欢",
         "不喜欢",
         "不喜欢"
        ],
        [
         "27",
         "不喜欢",
         "不喜欢",
         "不喜欢",
         "喜欢",
         "不喜欢",
         "喜欢",
         "喜欢",
         "不喜欢"
        ],
        [
         "28",
         "不喜欢",
         "喜欢",
         "不喜欢",
         "喜欢",
         "喜欢",
         "不喜欢",
         "不喜欢",
         "不喜欢"
        ],
        [
         "29",
         "喜欢",
         "不喜欢",
         "喜欢",
         "喜欢",
         "不喜欢",
         "喜欢",
         "不喜欢",
         "不喜欢"
        ],
        [
         "30",
         "不喜欢",
         "喜欢",
         "不喜欢",
         "不喜欢",
         "不喜欢",
         "不喜欢",
         "不喜欢",
         "不喜欢"
        ],
        [
         "31",
         "不喜欢",
         "不喜欢",
         "喜欢",
         "不喜欢",
         "喜欢",
         "不喜欢",
         "不喜欢",
         "不喜欢"
        ],
        [
         "32",
         "不喜欢",
         "不喜欢",
         "不喜欢",
         "不喜欢",
         "不喜欢",
         "不喜欢",
         "不喜欢",
         "喜欢"
        ],
        [
         "33",
         "不喜欢",
         "喜欢",
         "喜欢",
         "喜欢",
         "不喜欢",
         "喜欢",
         "喜欢",
         "不喜欢"
        ],
        [
         "34",
         "不喜欢",
         "喜欢",
         "喜欢",
         "喜欢",
         "喜欢",
         "喜欢",
         "不喜欢",
         "不喜欢"
        ],
        [
         "35",
         "不喜欢",
         "喜欢",
         "不喜欢",
         "喜欢",
         "喜欢",
         "喜欢",
         "不喜欢",
         "不喜欢"
        ],
        [
         "36",
         "不喜欢",
         "喜欢",
         "喜欢",
         "喜欢",
         "喜欢",
         "不喜欢",
         "不喜欢",
         "不喜欢"
        ],
        [
         "37",
         "不喜欢",
         "喜欢",
         "不喜欢",
         "喜欢",
         "喜欢",
         "喜欢",
         "不喜欢",
         "不喜欢"
        ],
        [
         "38",
         "不喜欢",
         "不喜欢",
         "喜欢",
         "喜欢",
         "喜欢",
         "喜欢",
         "不喜欢",
         "不喜欢"
        ],
        [
         "39",
         "不喜欢",
         "不喜欢",
         "不喜欢",
         "喜欢",
         "喜欢",
         "不喜欢",
         "不喜欢",
         "不喜欢"
        ],
        [
         "40",
         "喜欢",
         "不喜欢",
         "喜欢",
         "喜欢",
         "不喜欢",
         "不喜欢",
         "不喜欢",
         "不喜欢"
        ],
        [
         "41",
         "不喜欢",
         "喜欢",
         "喜欢",
         "不喜欢",
         "喜欢",
         "不喜欢",
         "不喜欢",
         "不喜欢"
        ],
        [
         "42",
         "不喜欢",
         "不喜欢",
         "喜欢",
         "喜欢",
         "不喜欢",
         "喜欢",
         "不喜欢",
         "不喜欢"
        ],
        [
         "43",
         "喜欢",
         "喜欢",
         "不喜欢",
         "不喜欢",
         "不喜欢",
         "不喜欢",
         "不喜欢",
         "不喜欢"
        ],
        [
         "44",
         "不喜欢",
         "喜欢",
         "喜欢",
         "喜欢",
         "喜欢",
         "喜欢",
         "不喜欢",
         "不喜欢"
        ],
        [
         "45",
         "不喜欢",
         "不喜欢",
         "喜欢",
         "喜欢",
         "喜欢",
         "不喜欢",
         "不喜欢",
         "不喜欢"
        ],
        [
         "46",
         "不喜欢",
         "喜欢",
         "喜欢",
         "喜欢",
         "喜欢",
         "喜欢",
         "不喜欢",
         "不喜欢"
        ],
        [
         "47",
         "喜欢",
         "喜欢",
         "不喜欢",
         "喜欢",
         "不喜欢",
         "不喜欢",
         "不喜欢",
         "不喜欢"
        ],
        [
         "48",
         "喜欢",
         "喜欢",
         "不喜欢",
         "喜欢",
         "不喜欢",
         "喜欢",
         "不喜欢",
         "不喜欢"
        ],
        [
         "49",
         "不喜欢",
         "喜欢",
         "喜欢",
         "喜欢",
         "不喜欢",
         "不喜欢",
         "不喜欢",
         "不喜欢"
        ]
       ],
       "shape": {
        "columns": 8,
        "rows": 80
       }
      },
      "text/html": [
       "<div>\n",
       "<style scoped>\n",
       "    .dataframe tbody tr th:only-of-type {\n",
       "        vertical-align: middle;\n",
       "    }\n",
       "\n",
       "    .dataframe tbody tr th {\n",
       "        vertical-align: top;\n",
       "    }\n",
       "\n",
       "    .dataframe thead th {\n",
       "        text-align: right;\n",
       "    }\n",
       "</style>\n",
       "<table border=\"1\" class=\"dataframe\">\n",
       "  <thead>\n",
       "    <tr style=\"text-align: right;\">\n",
       "      <th></th>\n",
       "      <th>l_code</th>\n",
       "      <th>l_design</th>\n",
       "      <th>l_operation</th>\n",
       "      <th>l_production</th>\n",
       "      <th>l_copywriter</th>\n",
       "      <th>l_market</th>\n",
       "      <th>l_other</th>\n",
       "      <th>l_non</th>\n",
       "    </tr>\n",
       "  </thead>\n",
       "  <tbody>\n",
       "    <tr>\n",
       "      <th>0</th>\n",
       "      <td>不喜欢</td>\n",
       "      <td>喜欢</td>\n",
       "      <td>喜欢</td>\n",
       "      <td>喜欢</td>\n",
       "      <td>喜欢</td>\n",
       "      <td>不喜欢</td>\n",
       "      <td>不喜欢</td>\n",
       "      <td>不喜欢</td>\n",
       "    </tr>\n",
       "    <tr>\n",
       "      <th>1</th>\n",
       "      <td>喜欢</td>\n",
       "      <td>不喜欢</td>\n",
       "      <td>喜欢</td>\n",
       "      <td>喜欢</td>\n",
       "      <td>不喜欢</td>\n",
       "      <td>不喜欢</td>\n",
       "      <td>不喜欢</td>\n",
       "      <td>不喜欢</td>\n",
       "    </tr>\n",
       "    <tr>\n",
       "      <th>2</th>\n",
       "      <td>不喜欢</td>\n",
       "      <td>喜欢</td>\n",
       "      <td>喜欢</td>\n",
       "      <td>喜欢</td>\n",
       "      <td>喜欢</td>\n",
       "      <td>不喜欢</td>\n",
       "      <td>不喜欢</td>\n",
       "      <td>不喜欢</td>\n",
       "    </tr>\n",
       "    <tr>\n",
       "      <th>3</th>\n",
       "      <td>不喜欢</td>\n",
       "      <td>不喜欢</td>\n",
       "      <td>喜欢</td>\n",
       "      <td>喜欢</td>\n",
       "      <td>喜欢</td>\n",
       "      <td>不喜欢</td>\n",
       "      <td>不喜欢</td>\n",
       "      <td>不喜欢</td>\n",
       "    </tr>\n",
       "    <tr>\n",
       "      <th>4</th>\n",
       "      <td>不喜欢</td>\n",
       "      <td>喜欢</td>\n",
       "      <td>不喜欢</td>\n",
       "      <td>不喜欢</td>\n",
       "      <td>不喜欢</td>\n",
       "      <td>不喜欢</td>\n",
       "      <td>不喜欢</td>\n",
       "      <td>不喜欢</td>\n",
       "    </tr>\n",
       "    <tr>\n",
       "      <th>...</th>\n",
       "      <td>...</td>\n",
       "      <td>...</td>\n",
       "      <td>...</td>\n",
       "      <td>...</td>\n",
       "      <td>...</td>\n",
       "      <td>...</td>\n",
       "      <td>...</td>\n",
       "      <td>...</td>\n",
       "    </tr>\n",
       "    <tr>\n",
       "      <th>75</th>\n",
       "      <td>喜欢</td>\n",
       "      <td>不喜欢</td>\n",
       "      <td>不喜欢</td>\n",
       "      <td>喜欢</td>\n",
       "      <td>不喜欢</td>\n",
       "      <td>不喜欢</td>\n",
       "      <td>不喜欢</td>\n",
       "      <td>不喜欢</td>\n",
       "    </tr>\n",
       "    <tr>\n",
       "      <th>76</th>\n",
       "      <td>不喜欢</td>\n",
       "      <td>不喜欢</td>\n",
       "      <td>喜欢</td>\n",
       "      <td>喜欢</td>\n",
       "      <td>不喜欢</td>\n",
       "      <td>不喜欢</td>\n",
       "      <td>不喜欢</td>\n",
       "      <td>不喜欢</td>\n",
       "    </tr>\n",
       "    <tr>\n",
       "      <th>77</th>\n",
       "      <td>喜欢</td>\n",
       "      <td>喜欢</td>\n",
       "      <td>喜欢</td>\n",
       "      <td>喜欢</td>\n",
       "      <td>不喜欢</td>\n",
       "      <td>不喜欢</td>\n",
       "      <td>不喜欢</td>\n",
       "      <td>不喜欢</td>\n",
       "    </tr>\n",
       "    <tr>\n",
       "      <th>78</th>\n",
       "      <td>不喜欢</td>\n",
       "      <td>喜欢</td>\n",
       "      <td>喜欢</td>\n",
       "      <td>喜欢</td>\n",
       "      <td>喜欢</td>\n",
       "      <td>喜欢</td>\n",
       "      <td>不喜欢</td>\n",
       "      <td>不喜欢</td>\n",
       "    </tr>\n",
       "    <tr>\n",
       "      <th>79</th>\n",
       "      <td>不喜欢</td>\n",
       "      <td>喜欢</td>\n",
       "      <td>喜欢</td>\n",
       "      <td>喜欢</td>\n",
       "      <td>喜欢</td>\n",
       "      <td>喜欢</td>\n",
       "      <td>不喜欢</td>\n",
       "      <td>不喜欢</td>\n",
       "    </tr>\n",
       "  </tbody>\n",
       "</table>\n",
       "<p>80 rows × 8 columns</p>\n",
       "</div>"
      ],
      "text/plain": [
       "   l_code l_design l_operation l_production l_copywriter l_market l_other  \\\n",
       "0     不喜欢       喜欢          喜欢           喜欢           喜欢      不喜欢     不喜欢   \n",
       "1      喜欢      不喜欢          喜欢           喜欢          不喜欢      不喜欢     不喜欢   \n",
       "2     不喜欢       喜欢          喜欢           喜欢           喜欢      不喜欢     不喜欢   \n",
       "3     不喜欢      不喜欢          喜欢           喜欢           喜欢      不喜欢     不喜欢   \n",
       "4     不喜欢       喜欢         不喜欢          不喜欢          不喜欢      不喜欢     不喜欢   \n",
       "..    ...      ...         ...          ...          ...      ...     ...   \n",
       "75     喜欢      不喜欢         不喜欢           喜欢          不喜欢      不喜欢     不喜欢   \n",
       "76    不喜欢      不喜欢          喜欢           喜欢          不喜欢      不喜欢     不喜欢   \n",
       "77     喜欢       喜欢          喜欢           喜欢          不喜欢      不喜欢     不喜欢   \n",
       "78    不喜欢       喜欢          喜欢           喜欢           喜欢       喜欢     不喜欢   \n",
       "79    不喜欢       喜欢          喜欢           喜欢           喜欢       喜欢     不喜欢   \n",
       "\n",
       "   l_non  \n",
       "0    不喜欢  \n",
       "1    不喜欢  \n",
       "2    不喜欢  \n",
       "3    不喜欢  \n",
       "4    不喜欢  \n",
       "..   ...  \n",
       "75   不喜欢  \n",
       "76   不喜欢  \n",
       "77   不喜欢  \n",
       "78   不喜欢  \n",
       "79   不喜欢  \n",
       "\n",
       "[80 rows x 8 columns]"
      ]
     },
     "execution_count": 11,
     "metadata": {},
     "output_type": "execute_result"
    }
   ],
   "source": [
    "# 检查一下结果\n",
    "df.filter(regex = \"^l_.*\")"
   ]
  },
  {
   "cell_type": "code",
   "execution_count": 12,
   "metadata": {},
   "outputs": [],
   "source": [
    "# 将以“impr_”开头的变量（第30~37列的变量）转成“类别型变量”\n",
    "for i in range(30,37):\n",
    "    df.iloc[:,i] = df.iloc[:,i].apply(impr).astype('category')"
   ]
  },
  {
   "cell_type": "code",
   "execution_count": 13,
   "metadata": {},
   "outputs": [
    {
     "data": {
      "application/vnd.microsoft.datawrangler.viewer.v0+json": {
       "columns": [
        {
         "name": "index",
         "rawType": "int64",
         "type": "integer"
        },
        {
         "name": "impr_code",
         "rawType": "category",
         "type": "unknown"
        },
        {
         "name": "impr_design",
         "rawType": "category",
         "type": "unknown"
        },
        {
         "name": "impr_operation",
         "rawType": "category",
         "type": "unknown"
        },
        {
         "name": "impr_production",
         "rawType": "category",
         "type": "unknown"
        },
        {
         "name": "impr_copywriter",
         "rawType": "category",
         "type": "unknown"
        },
        {
         "name": "impr_market",
         "rawType": "category",
         "type": "unknown"
        },
        {
         "name": "impr_other",
         "rawType": "category",
         "type": "unknown"
        }
       ],
       "conversionMethod": "pd.DataFrame",
       "ref": "cef622ca-ebd5-4a17-90ae-be56fb9d234e",
       "rows": [
        [
         "0",
         "挺好的",
         "有提升空间",
         "有提升空间",
         "有提升空间",
         "有提升空间",
         "有提升空间",
         "挺好的"
        ],
        [
         "1",
         "有提升空间",
         "有提升空间",
         "挺好的",
         "挺好的",
         "有提升空间",
         "有提升空间",
         "挺好的"
        ],
        [
         "2",
         "挺好的",
         "有提升空间",
         "有提升空间",
         "有提升空间",
         "有提升空间",
         "挺好的",
         "挺好的"
        ],
        [
         "3",
         "挺好的",
         "挺好的",
         "有提升空间",
         "有提升空间",
         "有提升空间",
         "挺好的",
         "挺好的"
        ],
        [
         "4",
         "挺好的",
         "有提升空间",
         "挺好的",
         "挺好的",
         "有提升空间",
         "挺好的",
         "挺好的"
        ],
        [
         "5",
         "挺好的",
         "有提升空间",
         "有提升空间",
         "有提升空间",
         "有提升空间",
         "有提升空间",
         "挺好的"
        ],
        [
         "6",
         "挺好的",
         "有提升空间",
         "挺好的",
         "有提升空间",
         "挺好的",
         "挺好的",
         "挺好的"
        ],
        [
         "7",
         "有提升空间",
         "有提升空间",
         "有提升空间",
         "有提升空间",
         "有提升空间",
         "挺好的",
         "挺好的"
        ],
        [
         "8",
         "挺好的",
         "有提升空间",
         "有提升空间",
         "有提升空间",
         "挺好的",
         "有提升空间",
         "有提升空间"
        ],
        [
         "9",
         "挺好的",
         "有提升空间",
         "挺好的",
         "有提升空间",
         "挺好的",
         "有提升空间",
         "挺好的"
        ],
        [
         "10",
         "挺好的",
         "挺好的",
         "挺好的",
         "挺好的",
         "挺好的",
         "挺好的",
         "有提升空间"
        ],
        [
         "11",
         "挺好的",
         "有提升空间",
         "有提升空间",
         "有提升空间",
         "挺好的",
         "挺好的",
         "挺好的"
        ],
        [
         "12",
         "挺好的",
         "有提升空间",
         "有提升空间",
         "有提升空间",
         "挺好的",
         "挺好的",
         "挺好的"
        ],
        [
         "13",
         "挺好的",
         "有提升空间",
         "挺好的",
         "挺好的",
         "挺好的",
         "有提升空间",
         "挺好的"
        ],
        [
         "14",
         "挺好的",
         "有提升空间",
         "有提升空间",
         "有提升空间",
         "有提升空间",
         "有提升空间",
         "挺好的"
        ],
        [
         "15",
         "挺好的",
         "有提升空间",
         "有提升空间",
         "有提升空间",
         "挺好的",
         "有提升空间",
         "挺好的"
        ],
        [
         "16",
         "挺好的",
         "挺好的",
         "挺好的",
         "有提升空间",
         "有提升空间",
         "有提升空间",
         "挺好的"
        ],
        [
         "17",
         "挺好的",
         "有提升空间",
         "挺好的",
         "有提升空间",
         "有提升空间",
         "有提升空间",
         "挺好的"
        ],
        [
         "18",
         "有提升空间",
         "挺好的",
         "有提升空间",
         "有提升空间",
         "挺好的",
         "挺好的",
         "挺好的"
        ],
        [
         "19",
         "挺好的",
         "有提升空间",
         "挺好的",
         "有提升空间",
         "挺好的",
         "挺好的",
         "挺好的"
        ],
        [
         "20",
         "挺好的",
         "有提升空间",
         "有提升空间",
         "有提升空间",
         "有提升空间",
         "有提升空间",
         "挺好的"
        ],
        [
         "21",
         "挺好的",
         "有提升空间",
         "有提升空间",
         "挺好的",
         "挺好的",
         "挺好的",
         "挺好的"
        ],
        [
         "22",
         "有提升空间",
         "有提升空间",
         "挺好的",
         "挺好的",
         "挺好的",
         "有提升空间",
         "挺好的"
        ],
        [
         "23",
         "挺好的",
         "有提升空间",
         "有提升空间",
         "有提升空间",
         "挺好的",
         "有提升空间",
         "挺好的"
        ],
        [
         "24",
         "挺好的",
         "有提升空间",
         "有提升空间",
         "有提升空间",
         "有提升空间",
         "有提升空间",
         "挺好的"
        ],
        [
         "25",
         "有提升空间",
         "有提升空间",
         "挺好的",
         "有提升空间",
         "挺好的",
         "有提升空间",
         "挺好的"
        ],
        [
         "26",
         "挺好的",
         "挺好的",
         "有提升空间",
         "有提升空间",
         "有提升空间",
         "挺好的",
         "挺好的"
        ],
        [
         "27",
         "挺好的",
         "挺好的",
         "有提升空间",
         "有提升空间",
         "有提升空间",
         "有提升空间",
         "挺好的"
        ],
        [
         "28",
         "挺好的",
         "有提升空间",
         "有提升空间",
         "有提升空间",
         "挺好的",
         "有提升空间",
         "挺好的"
        ],
        [
         "29",
         "挺好的",
         "挺好的",
         "有提升空间",
         "有提升空间",
         "挺好的",
         "挺好的",
         "挺好的"
        ],
        [
         "30",
         "挺好的",
         "有提升空间",
         "挺好的",
         "挺好的",
         "挺好的",
         "挺好的",
         "挺好的"
        ],
        [
         "31",
         "挺好的",
         "挺好的",
         "有提升空间",
         "挺好的",
         "有提升空间",
         "挺好的",
         "挺好的"
        ],
        [
         "32",
         "挺好的",
         "挺好的",
         "挺好的",
         "挺好的",
         "挺好的",
         "挺好的",
         "有提升空间"
        ],
        [
         "33",
         "挺好的",
         "有提升空间",
         "有提升空间",
         "有提升空间",
         "有提升空间",
         "挺好的",
         "有提升空间"
        ],
        [
         "34",
         "挺好的",
         "挺好的",
         "有提升空间",
         "有提升空间",
         "挺好的",
         "有提升空间",
         "挺好的"
        ],
        [
         "35",
         "挺好的",
         "挺好的",
         "有提升空间",
         "有提升空间",
         "挺好的",
         "有提升空间",
         "挺好的"
        ],
        [
         "36",
         "挺好的",
         "有提升空间",
         "有提升空间",
         "有提升空间",
         "挺好的",
         "有提升空间",
         "挺好的"
        ],
        [
         "37",
         "挺好的",
         "有提升空间",
         "挺好的",
         "挺好的",
         "有提升空间",
         "挺好的",
         "挺好的"
        ],
        [
         "38",
         "有提升空间",
         "有提升空间",
         "挺好的",
         "挺好的",
         "挺好的",
         "挺好的",
         "挺好的"
        ],
        [
         "39",
         "挺好的",
         "有提升空间",
         "挺好的",
         "挺好的",
         "有提升空间",
         "挺好的",
         "挺好的"
        ],
        [
         "40",
         "挺好的",
         "有提升空间",
         "挺好的",
         "挺好的",
         "挺好的",
         "挺好的",
         "挺好的"
        ],
        [
         "41",
         "挺好的",
         "有提升空间",
         "有提升空间",
         "挺好的",
         "有提升空间",
         "挺好的",
         "挺好的"
        ],
        [
         "42",
         "有提升空间",
         "挺好的",
         "挺好的",
         "有提升空间",
         "挺好的",
         "有提升空间",
         "挺好的"
        ],
        [
         "43",
         "挺好的",
         "有提升空间",
         "挺好的",
         "有提升空间",
         "有提升空间",
         "挺好的",
         "挺好的"
        ],
        [
         "44",
         "挺好的",
         "挺好的",
         "有提升空间",
         "有提升空间",
         "挺好的",
         "有提升空间",
         "挺好的"
        ],
        [
         "45",
         "挺好的",
         "挺好的",
         "有提升空间",
         "挺好的",
         "有提升空间",
         "有提升空间",
         "挺好的"
        ],
        [
         "46",
         "挺好的",
         "有提升空间",
         "有提升空间",
         "有提升空间",
         "有提升空间",
         "有提升空间",
         "挺好的"
        ],
        [
         "47",
         "有提升空间",
         "有提升空间",
         "挺好的",
         "有提升空间",
         "挺好的",
         "挺好的",
         "挺好的"
        ],
        [
         "48",
         "挺好的",
         "有提升空间",
         "有提升空间",
         "有提升空间",
         "挺好的",
         "挺好的",
         "挺好的"
        ],
        [
         "49",
         "挺好的",
         "有提升空间",
         "有提升空间",
         "有提升空间",
         "挺好的",
         "挺好的",
         "挺好的"
        ]
       ],
       "shape": {
        "columns": 7,
        "rows": 80
       }
      },
      "text/html": [
       "<div>\n",
       "<style scoped>\n",
       "    .dataframe tbody tr th:only-of-type {\n",
       "        vertical-align: middle;\n",
       "    }\n",
       "\n",
       "    .dataframe tbody tr th {\n",
       "        vertical-align: top;\n",
       "    }\n",
       "\n",
       "    .dataframe thead th {\n",
       "        text-align: right;\n",
       "    }\n",
       "</style>\n",
       "<table border=\"1\" class=\"dataframe\">\n",
       "  <thead>\n",
       "    <tr style=\"text-align: right;\">\n",
       "      <th></th>\n",
       "      <th>impr_code</th>\n",
       "      <th>impr_design</th>\n",
       "      <th>impr_operation</th>\n",
       "      <th>impr_production</th>\n",
       "      <th>impr_copywriter</th>\n",
       "      <th>impr_market</th>\n",
       "      <th>impr_other</th>\n",
       "    </tr>\n",
       "  </thead>\n",
       "  <tbody>\n",
       "    <tr>\n",
       "      <th>0</th>\n",
       "      <td>挺好的</td>\n",
       "      <td>有提升空间</td>\n",
       "      <td>有提升空间</td>\n",
       "      <td>有提升空间</td>\n",
       "      <td>有提升空间</td>\n",
       "      <td>有提升空间</td>\n",
       "      <td>挺好的</td>\n",
       "    </tr>\n",
       "    <tr>\n",
       "      <th>1</th>\n",
       "      <td>有提升空间</td>\n",
       "      <td>有提升空间</td>\n",
       "      <td>挺好的</td>\n",
       "      <td>挺好的</td>\n",
       "      <td>有提升空间</td>\n",
       "      <td>有提升空间</td>\n",
       "      <td>挺好的</td>\n",
       "    </tr>\n",
       "    <tr>\n",
       "      <th>2</th>\n",
       "      <td>挺好的</td>\n",
       "      <td>有提升空间</td>\n",
       "      <td>有提升空间</td>\n",
       "      <td>有提升空间</td>\n",
       "      <td>有提升空间</td>\n",
       "      <td>挺好的</td>\n",
       "      <td>挺好的</td>\n",
       "    </tr>\n",
       "    <tr>\n",
       "      <th>3</th>\n",
       "      <td>挺好的</td>\n",
       "      <td>挺好的</td>\n",
       "      <td>有提升空间</td>\n",
       "      <td>有提升空间</td>\n",
       "      <td>有提升空间</td>\n",
       "      <td>挺好的</td>\n",
       "      <td>挺好的</td>\n",
       "    </tr>\n",
       "    <tr>\n",
       "      <th>4</th>\n",
       "      <td>挺好的</td>\n",
       "      <td>有提升空间</td>\n",
       "      <td>挺好的</td>\n",
       "      <td>挺好的</td>\n",
       "      <td>有提升空间</td>\n",
       "      <td>挺好的</td>\n",
       "      <td>挺好的</td>\n",
       "    </tr>\n",
       "    <tr>\n",
       "      <th>...</th>\n",
       "      <td>...</td>\n",
       "      <td>...</td>\n",
       "      <td>...</td>\n",
       "      <td>...</td>\n",
       "      <td>...</td>\n",
       "      <td>...</td>\n",
       "      <td>...</td>\n",
       "    </tr>\n",
       "    <tr>\n",
       "      <th>75</th>\n",
       "      <td>有提升空间</td>\n",
       "      <td>挺好的</td>\n",
       "      <td>挺好的</td>\n",
       "      <td>有提升空间</td>\n",
       "      <td>挺好的</td>\n",
       "      <td>有提升空间</td>\n",
       "      <td>挺好的</td>\n",
       "    </tr>\n",
       "    <tr>\n",
       "      <th>76</th>\n",
       "      <td>挺好的</td>\n",
       "      <td>有提升空间</td>\n",
       "      <td>有提升空间</td>\n",
       "      <td>挺好的</td>\n",
       "      <td>挺好的</td>\n",
       "      <td>有提升空间</td>\n",
       "      <td>挺好的</td>\n",
       "    </tr>\n",
       "    <tr>\n",
       "      <th>77</th>\n",
       "      <td>有提升空间</td>\n",
       "      <td>挺好的</td>\n",
       "      <td>有提升空间</td>\n",
       "      <td>有提升空间</td>\n",
       "      <td>挺好的</td>\n",
       "      <td>有提升空间</td>\n",
       "      <td>挺好的</td>\n",
       "    </tr>\n",
       "    <tr>\n",
       "      <th>78</th>\n",
       "      <td>挺好的</td>\n",
       "      <td>有提升空间</td>\n",
       "      <td>挺好的</td>\n",
       "      <td>挺好的</td>\n",
       "      <td>挺好的</td>\n",
       "      <td>有提升空间</td>\n",
       "      <td>挺好的</td>\n",
       "    </tr>\n",
       "    <tr>\n",
       "      <th>79</th>\n",
       "      <td>有提升空间</td>\n",
       "      <td>挺好的</td>\n",
       "      <td>有提升空间</td>\n",
       "      <td>有提升空间</td>\n",
       "      <td>挺好的</td>\n",
       "      <td>有提升空间</td>\n",
       "      <td>挺好的</td>\n",
       "    </tr>\n",
       "  </tbody>\n",
       "</table>\n",
       "<p>80 rows × 7 columns</p>\n",
       "</div>"
      ],
      "text/plain": [
       "   impr_code impr_design impr_operation impr_production impr_copywriter  \\\n",
       "0        挺好的       有提升空间          有提升空间           有提升空间           有提升空间   \n",
       "1      有提升空间       有提升空间            挺好的             挺好的           有提升空间   \n",
       "2        挺好的       有提升空间          有提升空间           有提升空间           有提升空间   \n",
       "3        挺好的         挺好的          有提升空间           有提升空间           有提升空间   \n",
       "4        挺好的       有提升空间            挺好的             挺好的           有提升空间   \n",
       "..       ...         ...            ...             ...             ...   \n",
       "75     有提升空间         挺好的            挺好的           有提升空间             挺好的   \n",
       "76       挺好的       有提升空间          有提升空间             挺好的             挺好的   \n",
       "77     有提升空间         挺好的          有提升空间           有提升空间             挺好的   \n",
       "78       挺好的       有提升空间            挺好的             挺好的             挺好的   \n",
       "79     有提升空间         挺好的          有提升空间           有提升空间             挺好的   \n",
       "\n",
       "   impr_market impr_other  \n",
       "0        有提升空间        挺好的  \n",
       "1        有提升空间        挺好的  \n",
       "2          挺好的        挺好的  \n",
       "3          挺好的        挺好的  \n",
       "4          挺好的        挺好的  \n",
       "..         ...        ...  \n",
       "75       有提升空间        挺好的  \n",
       "76       有提升空间        挺好的  \n",
       "77       有提升空间        挺好的  \n",
       "78       有提升空间        挺好的  \n",
       "79       有提升空间        挺好的  \n",
       "\n",
       "[80 rows x 7 columns]"
      ]
     },
     "execution_count": 13,
     "metadata": {},
     "output_type": "execute_result"
    }
   ],
   "source": [
    "# 检查一下结果\n",
    "df.filter(regex = \"^impr_.*\")"
   ]
  },
  {
   "cell_type": "markdown",
   "metadata": {},
   "source": [
    "# 单变量的数据描述与可视化\n"
   ]
  },
  {
   "cell_type": "markdown",
   "metadata": {},
   "source": [
    "## 类别型变量：数据描述"
   ]
  },
  {
   "cell_type": "code",
   "execution_count": 31,
   "metadata": {},
   "outputs": [],
   "source": [
    "df.location = df.location.astype(\"category\")\n",
    "df.gender = df.gender.astype(\"category\")"
   ]
  },
  {
   "cell_type": "code",
   "execution_count": 32,
   "metadata": {},
   "outputs": [
    {
     "data": {
      "text/plain": [
       "gender\n",
       "女性    64\n",
       "男性    16\n",
       "Name: count, dtype: int64"
      ]
     },
     "execution_count": 32,
     "metadata": {},
     "output_type": "execute_result"
    }
   ],
   "source": [
    "table_gender = df.gender.value_counts()\n",
    "table_gender"
   ]
  },
  {
   "cell_type": "markdown",
   "metadata": {},
   "source": [
    "<strong style=\"color:red;\">课堂练习</strong>"
   ]
  },
  {
   "cell_type": "markdown",
   "metadata": {},
   "source": [
    "对`hukou`变量和`method`变量进行频数统计"
   ]
  },
  {
   "cell_type": "code",
   "execution_count": null,
   "metadata": {},
   "outputs": [],
   "source": []
  },
  {
   "cell_type": "markdown",
   "metadata": {},
   "source": [
    "## 类别型变量：饼状图"
   ]
  },
  {
   "cell_type": "code",
   "execution_count": 22,
   "metadata": {},
   "outputs": [
    {
     "data": {
      "text/plain": [
       "<Axes: ylabel='count'>"
      ]
     },
     "execution_count": 22,
     "metadata": {},
     "output_type": "execute_result"
    },
    {
     "data": {
      "image/png": "[encoded data removed]",
      "text/plain": [
       "<Figure size 640x480 with 1 Axes>"
      ]
     },
     "metadata": {},
     "output_type": "display_data"
    }
   ],
   "source": [
    "table_gender.plot.pie()"
   ]
  },
  {
   "cell_type": "markdown",
   "metadata": {},
   "source": [
    "<strong style=\"color:red;\">课堂练习</strong>"
   ]
  },
  {
   "cell_type": "markdown",
   "metadata": {},
   "source": [
    "对`hukou`变量绘制饼状图"
   ]
  },
  {
   "cell_type": "code",
   "execution_count": null,
   "metadata": {},
   "outputs": [],
   "source": []
  },
  {
   "cell_type": "markdown",
   "metadata": {},
   "source": [
    "## 类别型变量：条形图"
   ]
  },
  {
   "cell_type": "code",
   "execution_count": 23,
   "metadata": {},
   "outputs": [
    {
     "data": {
      "text/plain": [
       "<Axes: xlabel='location', ylabel='count'>"
      ]
     },
     "execution_count": 23,
     "metadata": {},
     "output_type": "execute_result"
    },
    {
     "data": {
      "image/png": "[encoded data removed]",
      "text/plain": [
       "<Figure size 640x480 with 1 Axes>"
      ]
     },
     "metadata": {},
     "output_type": "display_data"
    }
   ],
   "source": [
    "sns.countplot(x = \"location\",data = df)"
   ]
  },
  {
   "cell_type": "markdown",
   "metadata": {},
   "source": [
    "<strong style=\"color:red;\">课堂练习</strong>"
   ]
  },
  {
   "cell_type": "markdown",
   "metadata": {},
   "source": [
    "对`method`变量绘制柱形图"
   ]
  },
  {
   "cell_type": "code",
   "execution_count": null,
   "metadata": {},
   "outputs": [],
   "source": []
  },
  {
   "cell_type": "markdown",
   "metadata": {},
   "source": [
    "## 数值型变量:数据描述"
   ]
  },
  {
   "cell_type": "code",
   "execution_count": 24,
   "metadata": {},
   "outputs": [
    {
     "data": {
      "text/plain": [
       "count    80.000000\n",
       "mean      3.175000\n",
       "std       0.707554\n",
       "min       1.000000\n",
       "25%       3.000000\n",
       "50%       3.000000\n",
       "75%       4.000000\n",
       "max       5.000000\n",
       "Name: effort_overall, dtype: float64"
      ]
     },
     "execution_count": 24,
     "metadata": {},
     "output_type": "execute_result"
    }
   ],
   "source": [
    "# 返回单个变量的描述性统计结果\n",
    "df[\"effort_overall\"].describe()"
   ]
  },
  {
   "cell_type": "markdown",
   "metadata": {},
   "source": [
    "<strong style=\"color:red;\">课堂练习</strong>"
   ]
  },
  {
   "cell_type": "markdown",
   "metadata": {},
   "source": [
    "对`spending`变量进行数据描述"
   ]
  },
  {
   "cell_type": "code",
   "execution_count": null,
   "metadata": {},
   "outputs": [],
   "source": []
  },
  {
   "cell_type": "markdown",
   "metadata": {},
   "source": [
    "## 类别型变量：直方图"
   ]
  },
  {
   "cell_type": "code",
   "execution_count": 25,
   "metadata": {},
   "outputs": [
    {
     "data": {
      "text/plain": [
       "<Axes: xlabel='effort_overall', ylabel='Count'>"
      ]
     },
     "execution_count": 25,
     "metadata": {},
     "output_type": "execute_result"
    },
    {
     "data": {
      "image/png": "[encoded data removed]",
      "text/plain": [
       "<Figure size 640x480 with 1 Axes>"
      ]
     },
     "metadata": {},
     "output_type": "display_data"
    }
   ],
   "source": [
    "sns.histplot(x = \"effort_overall\",data=df)"
   ]
  },
  {
   "cell_type": "markdown",
   "metadata": {},
   "source": [
    "<strong style=\"color:red;\">课堂练习</strong>"
   ]
  },
  {
   "cell_type": "markdown",
   "metadata": {},
   "source": [
    "对`spending`变量绘制直方图"
   ]
  },
  {
   "cell_type": "code",
   "execution_count": null,
   "metadata": {},
   "outputs": [],
   "source": []
  },
  {
   "cell_type": "markdown",
   "metadata": {},
   "source": [
    "# 双变量的数据描述与可视化\n"
   ]
  },
  {
   "cell_type": "markdown",
   "metadata": {},
   "source": [
    "## 类别变量 + 数值型变量 ：分组计算统计量，箱型图\n"
   ]
  },
  {
   "cell_type": "code",
   "execution_count": 26,
   "metadata": {},
   "outputs": [
    {
     "data": {
      "text/plain": [
       "hukou\n",
       "城镇     3.40\n",
       "非城镇    2.92\n",
       "Name: ranking, dtype: float64"
      ]
     },
     "execution_count": 26,
     "metadata": {},
     "output_type": "execute_result"
    }
   ],
   "source": [
    "# “城镇户口”和“非城镇户口”的同学学习成绩描述\n",
    "df.groupby('hukou').ranking.mean()"
   ]
  },
  {
   "cell_type": "code",
   "execution_count": null,
   "metadata": {},
   "outputs": [
    {
     "data": {
      "text/plain": [
       "<Axes: xlabel='hukou', ylabel='ranking'>"
      ]
     },
     "execution_count": 27,
     "metadata": {},
     "output_type": "execute_result"
    },
    {
     "data": {
      "image/png": "[encoded data removed]",
      "text/plain": [
       "<Figure size 640x480 with 1 Axes>"
      ]
     },
     "metadata": {},
     "output_type": "display_data"
    }
   ],
   "source": [
    "## 箱型图\n",
    "sns.boxplot(x = 'hukou', y = 'ranking', data = df) "
   ]
  },
  {
   "cell_type": "markdown",
   "metadata": {},
   "source": [
    "<strong style=\"color:red;\">课堂练习</strong>"
   ]
  },
  {
   "cell_type": "markdown",
   "metadata": {},
   "source": [
    "依据以下变量进行分组统计量计算和箱型图绘制：高中分科（`high_school_major`变量） + 毕业后从事本专业相关工作倾向（`maj_work`变量）\n"
   ]
  },
  {
   "cell_type": "code",
   "execution_count": null,
   "metadata": {},
   "outputs": [],
   "source": []
  },
  {
   "cell_type": "markdown",
   "metadata": {},
   "source": [
    "## 类别型变量 + 数值型变量 ：列联表，簇状柱形图\n"
   ]
  },
  {
   "cell_type": "code",
   "execution_count": 28,
   "metadata": {},
   "outputs": [
    {
     "data": {
      "application/vnd.microsoft.datawrangler.viewer.v0+json": {
       "columns": [
        {
         "name": "gender",
         "rawType": "category",
         "type": "unknown"
        },
        {
         "name": "文科",
         "rawType": "int64",
         "type": "integer"
        },
        {
         "name": "理科",
         "rawType": "int64",
         "type": "integer"
        }
       ],
       "conversionMethod": "pd.DataFrame",
       "ref": "89ebea0f-7a67-49bb-b8dd-e5cf6a08f0c4",
       "rows": [
        [
         "女性",
         "37",
         "27"
        ],
        [
         "男性",
         "8",
         "8"
        ]
       ],
       "shape": {
        "columns": 2,
        "rows": 2
       }
      },
      "text/html": [
       "<div>\n",
       "<style scoped>\n",
       "    .dataframe tbody tr th:only-of-type {\n",
       "        vertical-align: middle;\n",
       "    }\n",
       "\n",
       "    .dataframe tbody tr th {\n",
       "        vertical-align: top;\n",
       "    }\n",
       "\n",
       "    .dataframe thead th {\n",
       "        text-align: right;\n",
       "    }\n",
       "</style>\n",
       "<table border=\"1\" class=\"dataframe\">\n",
       "  <thead>\n",
       "    <tr style=\"text-align: right;\">\n",
       "      <th>high_school_major</th>\n",
       "      <th>文科</th>\n",
       "      <th>理科</th>\n",
       "    </tr>\n",
       "    <tr>\n",
       "      <th>gender</th>\n",
       "      <th></th>\n",
       "      <th></th>\n",
       "    </tr>\n",
       "  </thead>\n",
       "  <tbody>\n",
       "    <tr>\n",
       "      <th>女性</th>\n",
       "      <td>37</td>\n",
       "      <td>27</td>\n",
       "    </tr>\n",
       "    <tr>\n",
       "      <th>男性</th>\n",
       "      <td>8</td>\n",
       "      <td>8</td>\n",
       "    </tr>\n",
       "  </tbody>\n",
       "</table>\n",
       "</div>"
      ],
      "text/plain": [
       "high_school_major  文科  理科\n",
       "gender                   \n",
       "女性                 37  27\n",
       "男性                  8   8"
      ]
     },
     "execution_count": 28,
     "metadata": {},
     "output_type": "execute_result"
    }
   ],
   "source": [
    "# 列联表\n",
    "crosstab = pd.crosstab(df.gender,df.high_school_major)\n",
    "crosstab\n"
   ]
  },
  {
   "cell_type": "code",
   "execution_count": 29,
   "metadata": {},
   "outputs": [
    {
     "data": {
      "text/plain": [
       "<Axes: xlabel='gender', ylabel='count'>"
      ]
     },
     "execution_count": 29,
     "metadata": {},
     "output_type": "execute_result"
    },
    {
     "data": {
      "image/png": "[encoded data removed]",
      "text/plain": [
       "<Figure size 640x480 with 1 Axes>"
      ]
     },
     "metadata": {},
     "output_type": "display_data"
    }
   ],
   "source": [
    "# \n",
    "sns.countplot(x = 'gender', hue = 'high_school_major', data = df) "
   ]
  },
  {
   "cell_type": "markdown",
   "metadata": {},
   "source": [
    "<strong style=\"color:red;\">课堂练习</strong>"
   ]
  },
  {
   "cell_type": "markdown",
   "metadata": {},
   "source": [
    "依据以下变量进行列联表计算和簇状柱形图绘制：高中分科（ `high_school_major`） + 是否喜欢设计类课程（ `l_design`）\n"
   ]
  },
  {
   "cell_type": "code",
   "execution_count": null,
   "metadata": {},
   "outputs": [],
   "source": []
  },
  {
   "cell_type": "markdown",
   "metadata": {},
   "source": [
    "## 数值型变量 + 数值型变量：相关系数，散点图\n"
   ]
  },
  {
   "cell_type": "code",
   "execution_count": 34,
   "metadata": {},
   "outputs": [
    {
     "data": {
      "text/plain": [
       "<Axes: xlabel='effort_overall', ylabel='ranking'>"
      ]
     },
     "execution_count": 34,
     "metadata": {},
     "output_type": "execute_result"
    },
    {
     "data": {
      "image/png": "[encoded data removed]",
      "text/plain": [
       "<Figure size 640x480 with 1 Axes>"
      ]
     },
     "metadata": {},
     "output_type": "display_data"
    }
   ],
   "source": [
    "sns.regplot(x = \"effort_overall\", y = \"ranking\", data = df)"
   ]
  },
  {
   "cell_type": "markdown",
   "metadata": {},
   "source": [
    "<strong style=\"color:red;\">课堂练习</strong>"
   ]
  },
  {
   "cell_type": "markdown",
   "metadata": {},
   "source": [
    "依据以下变量进行散点图（带拟合直线）绘制：网新专业课程满意度（ `sati_overall`） + 毕业后从事本专业相关工作倾向（ `maj_work`）\n"
   ]
  },
  {
   "cell_type": "code",
   "execution_count": null,
   "metadata": {},
   "outputs": [],
   "source": []
  }
 ],
 "metadata": {
  "kernelspec": {
   "display_name": "base",
   "language": "python",
   "name": "python3"
  },
  "language_info": {
   "codemirror_mode": {
    "name": "ipython",
    "version": 3
   },
   "file_extension": ".py",
   "mimetype": "text/x-python",
   "name": "python",
   "nbconvert_exporter": "python",
   "pygments_lexer": "ipython3",
   "version": "3.10.9"
  }
 },
 "nbformat": 4,
 "nbformat_minor": 2
}
